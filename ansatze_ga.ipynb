{
  "nbformat": 4,
  "nbformat_minor": 0,
  "metadata": {
    "colab": {
      "provenance": [],
      "include_colab_link": true
    },
    "kernelspec": {
      "name": "python3",
      "display_name": "Python 3"
    },
    "language_info": {
      "name": "python"
    }
  },
  "cells": [
    {
      "cell_type": "markdown",
      "metadata": {
        "id": "view-in-github",
        "colab_type": "text"
      },
      "source": [
        "<a href=\"https://colab.research.google.com/github/AdiTiwa/AdiTiwa/blob/main/ansatze_ga.ipynb\" target=\"_parent\"><img src=\"https://colab.research.google.com/assets/colab-badge.svg\" alt=\"Open In Colab\"/></a>"
      ]
    },
    {
      "cell_type": "code",
      "execution_count": null,
      "metadata": {
        "id": "MiUhCdRNmZAJ",
        "colab": {
          "base_uri": "https://localhost:8080/"
        },
        "outputId": "27c38079-a2de-4a9b-df19-6aea0be0dbd1"
      },
      "outputs": [
        {
          "output_type": "stream",
          "name": "stdout",
          "text": [
            "\u001b[?25l     \u001b[90m━━━━━━━━━━━━━━━━━━━━━━━━━━━━━━━━━━━━━━━━\u001b[0m \u001b[32m0.0/45.6 kB\u001b[0m \u001b[31m?\u001b[0m eta \u001b[36m-:--:--\u001b[0m\r\u001b[2K     \u001b[90m━━━━━━━━━━━━━━━━━━━━━━━━━━━━━━━━━━━━━━━━\u001b[0m \u001b[32m45.6/45.6 kB\u001b[0m \u001b[31m1.9 MB/s\u001b[0m eta \u001b[36m0:00:00\u001b[0m\n",
            "\u001b[?25h  Preparing metadata (setup.py) ... \u001b[?25l\u001b[?25hdone\n",
            "\u001b[2K   \u001b[90m━━━━━━━━━━━━━━━━━━━━━━━━━━━━━━━━━━━━━━━━\u001b[0m \u001b[32m1.9/1.9 MB\u001b[0m \u001b[31m27.6 MB/s\u001b[0m eta \u001b[36m0:00:00\u001b[0m\n",
            "\u001b[2K   \u001b[90m━━━━━━━━━━━━━━━━━━━━━━━━━━━━━━━━━━━━━━━━\u001b[0m \u001b[32m532.7/532.7 kB\u001b[0m \u001b[31m32.0 MB/s\u001b[0m eta \u001b[36m0:00:00\u001b[0m\n",
            "\u001b[2K   \u001b[90m━━━━━━━━━━━━━━━━━━━━━━━━━━━━━━━━━━━━━━━━\u001b[0m \u001b[32m60.5/60.5 kB\u001b[0m \u001b[31m3.5 MB/s\u001b[0m eta \u001b[36m0:00:00\u001b[0m\n",
            "\u001b[2K   \u001b[90m━━━━━━━━━━━━━━━━━━━━━━━━━━━━━━━━━━━━━━━━\u001b[0m \u001b[32m69.3/69.3 kB\u001b[0m \u001b[31m4.3 MB/s\u001b[0m eta \u001b[36m0:00:00\u001b[0m\n",
            "\u001b[2K   \u001b[90m━━━━━━━━━━━━━━━━━━━━━━━━━━━━━━━━━━━━━━━━\u001b[0m \u001b[32m596.5/596.5 kB\u001b[0m \u001b[31m33.6 MB/s\u001b[0m eta \u001b[36m0:00:00\u001b[0m\n",
            "\u001b[2K   \u001b[90m━━━━━━━━━━━━━━━━━━━━━━━━━━━━━━━━━━━━━━━━\u001b[0m \u001b[32m202.9/202.9 kB\u001b[0m \u001b[31m12.5 MB/s\u001b[0m eta \u001b[36m0:00:00\u001b[0m\n",
            "\u001b[2K   \u001b[90m━━━━━━━━━━━━━━━━━━━━━━━━━━━━━━━━━━━━━━━━\u001b[0m \u001b[32m53.0/53.0 kB\u001b[0m \u001b[31m3.8 MB/s\u001b[0m eta \u001b[36m0:00:00\u001b[0m\n",
            "\u001b[2K   \u001b[90m━━━━━━━━━━━━━━━━━━━━━━━━━━━━━━━━━━━━━━━━\u001b[0m \u001b[32m6.5/6.5 MB\u001b[0m \u001b[31m89.0 MB/s\u001b[0m eta \u001b[36m0:00:00\u001b[0m\n",
            "\u001b[2K   \u001b[90m━━━━━━━━━━━━━━━━━━━━━━━━━━━━━━━━━━━━━━━━\u001b[0m \u001b[32m2.2/2.2 MB\u001b[0m \u001b[31m65.6 MB/s\u001b[0m eta \u001b[36m0:00:00\u001b[0m\n",
            "\u001b[2K   \u001b[90m━━━━━━━━━━━━━━━━━━━━━━━━━━━━━━━━━━━━━━━━\u001b[0m \u001b[32m2.7/2.7 MB\u001b[0m \u001b[31m63.0 MB/s\u001b[0m eta \u001b[36m0:00:00\u001b[0m\n",
            "\u001b[2K   \u001b[90m━━━━━━━━━━━━━━━━━━━━━━━━━━━━━━━━━━━━━━━━\u001b[0m \u001b[32m1.7/1.7 MB\u001b[0m \u001b[31m64.9 MB/s\u001b[0m eta \u001b[36m0:00:00\u001b[0m\n",
            "\u001b[2K   \u001b[90m━━━━━━━━━━━━━━━━━━━━━━━━━━━━━━━━━━━━━━━━\u001b[0m \u001b[32m117.7/117.7 kB\u001b[0m \u001b[31m8.7 MB/s\u001b[0m eta \u001b[36m0:00:00\u001b[0m\n",
            "\u001b[2K   \u001b[90m━━━━━━━━━━━━━━━━━━━━━━━━━━━━━━━━━━━━━━━━\u001b[0m \u001b[32m739.1/739.1 kB\u001b[0m \u001b[31m30.4 MB/s\u001b[0m eta \u001b[36m0:00:00\u001b[0m\n",
            "\u001b[?25h  Building wheel for rpcq (setup.py) ... \u001b[?25l\u001b[?25hdone\n"
          ]
        }
      ],
      "source": [
        "try:\n",
        "    import cirq\n",
        "    import networkx as nx\n",
        "except:\n",
        "    !pip install --quiet cirq networkx\n",
        "    import cirq\n",
        "    import networkx as nx\n",
        "\n",
        "import random as rand\n",
        "import numpy as np\n",
        "import sympy as sp\n",
        "import matplotlib.pyplot as plt\n",
        "import numpy.random as npr"
      ]
    },
    {
      "cell_type": "markdown",
      "source": [
        "to build genome, we're looking to make a function that can convert a function with a defined mutation function $\\mu$ that maps from a type genome to genome, should i create a class? nah bad idea no reason to deal with that lmao. then we use a fitness function $\\nu$\n",
        "\n",
        "lol i made a class\n",
        "\n",
        "$\\mu: G \\mapsto G$: what am i supposed to d here lma\n",
        "uhhhh, make a"
      ],
      "metadata": {
        "id": "tY96xsjflGAO"
      }
    },
    {
      "cell_type": "code",
      "source": [
        "# hyper parameters\n",
        "\n",
        "MUT_CHANCE = 0.2\n",
        "EXPLORE = 0.2 # chance to add new gate\n",
        "\n",
        "GATES = [\"Rx\", \"Ry\", \"Rz\", \"CNOT\", \"RZZ\"]"
      ],
      "metadata": {
        "id": "j6KsM9LUreR4"
      },
      "execution_count": null,
      "outputs": []
    },
    {
      "cell_type": "code",
      "source": [
        "from collections import Counter\n",
        "from scipy.stats import unitary_group\n",
        "\n",
        "def get_circuit_ansatz(qubits):\n",
        "    \"\"\"Example ansatz circuit with rotation and entanglement.\"\"\"\n",
        "    circuit = cirq.Circuit()\n",
        "    for q in qubits:\n",
        "        circuit.append(cirq.rx(np.random.uniform(0, 2*np.pi))(q))\n",
        "    for i in range(len(qubits) - 1):\n",
        "        circuit.append(cirq.CNOT(qubits[i], qubits[i+1]))\n",
        "    return circuit\n",
        "\n",
        "def get_probabilities_from_circuit(circuit, resolver, num_samples=1000):\n",
        "    \"\"\"Run the circuit and return estimated probabilities of bitstrings.\"\"\"\n",
        "    simulator = cirq.Simulator()\n",
        "\n",
        "    resolved_circuit = cirq.resolve_parameters(circuit, resolver)\n",
        "    result = simulator.run(resolved_circuit, repetitions=num_samples)\n",
        "    measurements = result.measurements.values()\n",
        "\n",
        "    # Convert bitstrings to integer indices\n",
        "    bitstrings = [''.join(map(str, bits)) for bits in zip(*measurements)]\n",
        "\n",
        "    # Compute empirical probability distribution\n",
        "    counts = Counter(bitstrings)\n",
        "    total = sum(counts.values())\n",
        "    prob_ansatz = {bit: count / total for bit, count in counts.items()}\n",
        "\n",
        "    return prob_ansatz\n",
        "\n",
        "def haar_random_distribution(num_qubits):\n",
        "    \"\"\"Generate an approximate Haar measure probability distribution.\"\"\"\n",
        "    dim = 2**num_qubits\n",
        "    haar_states = unitary_group.rvs(dim)[:, 0]  # First column of Haar-random unitary\n",
        "    prob_haar = np.abs(haar_states) ** 2  # Probability distribution\n",
        "    return prob_haar / np.sum(prob_haar)  # Normalize\n",
        "\n",
        "def kl_divergence(p_ansatz, p_haar):\n",
        "    \"\"\"Compute KL divergence between two distributions.\"\"\"\n",
        "    kl_div = 0\n",
        "    for key, p_a in p_ansatz.items():\n",
        "        if p_a > 0:  # Avoid log(0)\n",
        "            kl_div += p_a * np.log(p_a / (p_haar.get(key, 1e-10)))  # Small epsilon for stability\n",
        "    return kl_div"
      ],
      "metadata": {
        "id": "mRLhEx4qemDQ"
      },
      "execution_count": null,
      "outputs": []
    },
    {
      "cell_type": "code",
      "source": [
        "class Gate:\n",
        "    def __init__(self, gate, qubits, parameter):\n",
        "        \"\"\"\n",
        "        :param gate: enum, [Rx, Ry, Rz, CNOT, RZZ]\n",
        "        :param qubits: tuple (i_0: int,) for gate on qubits i\n",
        "        :param parameter: p: int U None, parameter to gate given by \\theta_p\n",
        "        :returns None\n",
        "        \"\"\"\n",
        "\n",
        "        self.gates = gate\n",
        "        self.qubits = qubits\n",
        "        self.parameter = parameter\n",
        "\n",
        "    def __str__(self):\n",
        "        return f\"Gate({GATES[self.gates]}, {self.qubits}, {self.parameter})\"\n",
        "\n",
        "    def __copy__(self):\n",
        "        return Gate(self.gates, self.qubits, self.parameter)\n",
        "\n",
        "    def __eq__(self, other):\n",
        "        return id(self) == id(self)\n",
        "\n",
        "class Gene:\n",
        "    def __init__(self, gates, n, p: int = None):\n",
        "        \"\"\"\n",
        "        :param gates: Array[Gate] gates in the genome\n",
        "        :param n: amount of qubits\n",
        "        :param p: highest number of parameters in the circuit (max param)\n",
        "        \"\"\"\n",
        "        self.gates = gates\n",
        "        self.n = n\n",
        "\n",
        "        # find max index parameter in gates\n",
        "        self.p = max([gate.parameter for gate in gates]) if len(gates) > 0 else 0\n",
        "\n",
        "    def add_gate(self, g):\n",
        "        self.gates.append(g)\n",
        "        self.p = max([gate.parameter for gate in self.gates])\n",
        "\n",
        "    def to_circuit(self):\n",
        "        c = cirq.Circuit()\n",
        "        qubits = cirq.LineQubit.range(self.n)\n",
        "        X = [sp.Symbol(f'x_{i}') for i in range(self.p + 1)]\n",
        "\n",
        "        for gate in self.gates:\n",
        "            qs = [qubits[q] for q in gate.qubits]\n",
        "            match gate.gates:\n",
        "                case 0:\n",
        "                    c.append(cirq.Rx(rads=X[gate.parameter])(*qs))\n",
        "                case 1:\n",
        "                    c.append(cirq.Ry(rads=X[gate.parameter])(*qs))\n",
        "                case 2:\n",
        "                    c.append(cirq.Rz(rads=X[gate.parameter])(*qs))\n",
        "                case 3:\n",
        "                    c.append(cirq.CNOT(*qs))\n",
        "                case 4:\n",
        "                    c.append(cirq.ZZ(*qs) ** X[gate.parameter])\n",
        "\n",
        "        c.append(cirq.measure(*qubits, key='x'))\n",
        "\n",
        "        return c, X\n",
        "\n",
        "    def evaluate(self, X): # \\nu\n",
        "        c, params = self.to_circuit()\n",
        "        resolver = cirq.ParamResolver({params[i]: X[i] for i in range(len(X))})\n",
        "        prob_ansatz = get_probabilities_from_circuit(c, resolver)\n",
        "\n",
        "        prob_haar = haar_random_distribution(self.n)\n",
        "        p_haar = {format(i, f'0{self.n}b'): prob_haar[i] for i in range(2**self.n)}\n",
        "\n",
        "        return 1 / kl_divergence(prob_ansatz, p_haar)\n",
        "\n",
        "    def mutate(self): # \\mu\n",
        "        def num_g(r, n = 3):\n",
        "            import math as m\n",
        "\n",
        "            sigmoid = lambda x: 1 / (1 + m.exp(-x))\n",
        "            return m.floor((n + 0.5) * sigmoid(2 * m.e * (r - 0.5)))\n",
        "\n",
        "        # make a copy to be the next version of this agent\n",
        "        fut = self.__copy__()\n",
        "\n",
        "        if npr.choice([True, False], p=[MUT_CHANCE, 1-MUT_CHANCE]):\n",
        "            # select \"gene\" to mutate\n",
        "            if npr.choice([True, False], p=[EXPLORE, 1-EXPLORE]):\n",
        "                for i in range(num_g(rand.random(), self.n // 2) + 1): # add gates based on shifted sigmoid\n",
        "\n",
        "                    gate = rand.randint(0, 4)\n",
        "                    open_qubits = list(range(self.n))\n",
        "                    q1 = open_qubits.pop(npr.choice(open_qubits))\n",
        "                    q2 = npr.choice(open_qubits) if gate >= 3 else None\n",
        "\n",
        "                    qubits = (q1, q2) if gate >= 3 else (q1,)\n",
        "\n",
        "                    # give it a EXPLORE ** 2 to add a new parameter yk\n",
        "                    parameter = rand.randint(0, fut.p) if npr.choice([False, True], p=[EXPLORE ** 2, 1 - (EXPLORE ** 2)]) else fut.p + 1\n",
        "\n",
        "                    fut.add_gate(Gate(\n",
        "                        gate,\n",
        "                        qubits,\n",
        "                        parameter\n",
        "                    ))\n",
        "            else:\n",
        "                nchange=num_g(rand.random(), len(self.gates) // 3) # up to third of gates can be changed\n",
        "\n",
        "                for _ in range(nchange):\n",
        "                    gate = npr.choice(self.gates)\n",
        "\n",
        "                    if npr.choice([False, True], p = [EXPLORE, 1-EXPLORE]):\n",
        "                        gate.gates = rand.randint(0, 2) if gate.gates <= 2 else rand.randint(3, 4)\n",
        "                        gate.parameter = rand.randint(0, fut.p) if npr.choice([False, True], p=[EXPLORE ** 2, 1 - (EXPLORE ** 2)]) else fut.p + 1\n",
        "                    else:\n",
        "                        self.gates.remove(gate) # womp womp get cooketh\n",
        "\n",
        "        return fut.__copy__()\n",
        "\n",
        "    def __str__(self):\n",
        "        return f'Gene({\", \".join([gate.__str__() for gate in self.gates])})'\n",
        "\n",
        "    def __copy__(self):\n",
        "        return Gene([g.__copy__() for g in self.gates], self.n, self.p)"
      ],
      "metadata": {
        "id": "F5VG5IsBnBWV"
      },
      "execution_count": null,
      "outputs": []
    },
    {
      "cell_type": "code",
      "source": [
        "test = Gene([\n",
        "    Gate(0, (0,), 0),\n",
        "    Gate(0, (1,), 0),\n",
        "    Gate(0, (2,), 0)\n",
        "], 3)"
      ],
      "metadata": {
        "id": "jLuyFWob-Eqy"
      },
      "execution_count": null,
      "outputs": []
    },
    {
      "cell_type": "code",
      "source": [
        "test.to_circuit()"
      ],
      "metadata": {
        "colab": {
          "base_uri": "https://localhost:8080/"
        },
        "id": "kMmy6wl1-axU",
        "outputId": "f456012b-4301-4c1c-bf0a-23ecda396106"
      },
      "execution_count": null,
      "outputs": [
        {
          "output_type": "stream",
          "name": "stdout",
          "text": [
            "adding Gate(Rx, (0,), 0)\n",
            "[cirq.LineQubit(0)]\n",
            "adding Gate(Rx, (1,), 0)\n",
            "[cirq.LineQubit(1)]\n",
            "adding Gate(Rx, (2,), 0)\n",
            "[cirq.LineQubit(2)]\n"
          ]
        },
        {
          "output_type": "execute_result",
          "data": {
            "text/plain": [
              "(0: ───Rx(x_0)───\n",
              "\n",
              "1: ───Rx(x_0)───\n",
              "\n",
              "2: ───Rx(x_0)───, [x_0])"
            ]
          },
          "metadata": {},
          "execution_count": 6
        }
      ]
    },
    {
      "cell_type": "code",
      "source": [
        "def num_g(r, n = 3, s=2):\n",
        "    import math as m\n",
        "\n",
        "    sigmoid = lambda x: 1 / (1 + m.exp(-x))\n",
        "    return m.floor((n + 0.5) * sigmoid(s * m.e * (r - ((0.25) ** (1/s)))) + 1)\n",
        "\n",
        "# generate a plot for num_g\n",
        "x = np.linspace(0, 1, 100)\n",
        "y = [num_g(i, s=4) for i in x]\n",
        "plt.plot(x, y)\n",
        "plt.show()\n",
        "\n",
        "# verify that added gates don't exceed 3 lmao\n",
        "for _ in range(10000):\n",
        "    assert len(test.mutate().gates) - len(test.gates) <= 4"
      ],
      "metadata": {
        "colab": {
          "base_uri": "https://localhost:8080/",
          "height": 430
        },
        "id": "tW1stoL5B1kT",
        "outputId": "eb04997a-6a10-4be3-e3e8-46cf00aadfd3"
      },
      "execution_count": null,
      "outputs": [
        {
          "output_type": "display_data",
          "data": {
            "text/plain": [
              "<Figure size 640x480 with 1 Axes>"
            ],
            "image/png": "[encoded data removed]"
          },
          "metadata": {}
        }
      ]
    },
    {
      "cell_type": "code",
      "source": [
        "mutated = test.mutate()\n",
        "while len(mutated.gates) == len(test.gates):\n",
        "    mutated = test.mutate()\n",
        "\n",
        "mutated.to_circuit()"
      ],
      "metadata": {
        "colab": {
          "base_uri": "https://localhost:8080/"
        },
        "id": "La2KxVP0A67K",
        "outputId": "983f3e00-c2f7-4927-f76e-0cd6fe48120d"
      },
      "execution_count": null,
      "outputs": [
        {
          "output_type": "execute_result",
          "data": {
            "text/plain": [
              "(                ┌─────────────┐\n",
              "0: ───Rx(x_0)────ZZ───────────────Rx(x_0)───M('x')───\n",
              "                 │                          │\n",
              "1: ───Rx(x_0)────┼─────Rx(x_0)──────────────M────────\n",
              "                 │                          │\n",
              "2: ───Rx(x_0)────ZZ^x_0─────────────────────M────────\n",
              "                └─────────────┘,\n",
              " [x_0])"
            ]
          },
          "metadata": {},
          "execution_count": 28
        }
      ]
    },
    {
      "cell_type": "code",
      "source": [
        "for _ in range(10):\n",
        "    X = [0.1 * np.pi for _ in range(mutated.p + 1)]\n",
        "    print(f\"kl-divergence: {mutated.evaluate(X)} for X: {X}\")\n",
        "    mutated = mutated.mutate()"
      ],
      "metadata": {
        "id": "KTKZ-kywMiPV",
        "colab": {
          "base_uri": "https://localhost:8080/"
        },
        "outputId": "c2e5d815-3cc2-4a27-a7ed-91a9ef887e55"
      },
      "execution_count": null,
      "outputs": [
        {
          "output_type": "stream",
          "name": "stdout",
          "text": [
            "kl-divergence: 22.181624592186623 for X: [0.3141592653589793]\n",
            "kl-divergence: 22.171235004507693 for X: [0.3141592653589793]\n",
            "kl-divergence: 22.137724512487548 for X: [0.3141592653589793]\n",
            "kl-divergence: 22.07332806789243 for X: [0.3141592653589793]\n",
            "kl-divergence: 22.178967692492062 for X: [0.3141592653589793]\n",
            "kl-divergence: 22.135780222192416 for X: [0.3141592653589793]\n",
            "kl-divergence: 22.184684357039004 for X: [0.3141592653589793]\n",
            "kl-divergence: 22.126569047245113 for X: [0.3141592653589793]\n",
            "kl-divergence: 22.104942683856212 for X: [0.3141592653589793]\n",
            "kl-divergence: 22.00916898080665 for X: [0.3141592653589793]\n"
          ]
        }
      ]
    },
    {
      "cell_type": "code",
      "source": [
        "mutated.to_circuit()"
      ],
      "metadata": {
        "id": "rl3AXOh_c3y9",
        "colab": {
          "base_uri": "https://localhost:8080/"
        },
        "outputId": "d455601d-6872-4a3e-b316-aaecce41ff59"
      },
      "execution_count": null,
      "outputs": [
        {
          "output_type": "execute_result",
          "data": {
            "text/plain": [
              "(                ┌─────────────┐\n",
              "0: ───Rx(x_0)────ZZ───────────────Rx(x_0)───ZZ───────ZZ───────Rz(x_0)───ZZ───────Ry(x_0)──────────────────────────M('x')───\n",
              "                 │                          │        │                  │                                         │\n",
              "1: ───Rx(x_0)────┼─────Rx(x_0)────Rx(x_0)───┼────────┼──────────────────ZZ^x_0───@─────────Ry(x_0)───ZZ───────X───M────────\n",
              "                 │                          │        │                           │                   │        │   │\n",
              "2: ───Rx(x_0)────ZZ^x_0─────────────────────ZZ^x_0───ZZ^x_0──────────────────────X───────────────────ZZ^x_0───@───M────────\n",
              "                └─────────────┘,\n",
              " [x_0])"
            ]
          },
          "metadata": {},
          "execution_count": 43
        }
      ]
    },
    {
      "cell_type": "markdown",
      "source": [
        "oka let's give it a shot"
      ],
      "metadata": {
        "id": "E6d1D4b1j8cC"
      }
    },
    {
      "cell_type": "code",
      "source": [
        "# new hyperparameters\n",
        "GEN_SIZE = 100\n",
        "EPOCHS = 15\n",
        "QUBITS = 5\n",
        "\n",
        "PERCENTAGE = 0.2 # gen size should be divisible by percentage bc"
      ],
      "metadata": {
        "id": "EWxNXCp2j-dX"
      },
      "execution_count": null,
      "outputs": []
    },
    {
      "cell_type": "code",
      "source": [
        "current_generation = []\n",
        "for _ in range(GEN_SIZE):\n",
        "    g = Gene([], QUBITS)\n",
        "\n",
        "    for _ in range(num_g(rand.random(), QUBITS // 2, s=4)):\n",
        "        gate = rand.randint(0, 4)\n",
        "        open_qubits = list(range(QUBITS))\n",
        "        q1 = open_qubits.pop(npr.choice(open_qubits))\n",
        "        q2 = npr.choice(open_qubits) if gate >= 3 else None\n",
        "\n",
        "        qubits = (q1, q2) if gate >= 3 else (q1,)\n",
        "\n",
        "        # give it a EXPLORE ** 2 to add a new parameter yk\n",
        "        parameter = rand.randint(0, g.p) if npr.choice([False, True], p=[EXPLORE ** 2, 1 - (EXPLORE ** 2)]) else g.p + 1\n",
        "\n",
        "        g.add_gate(Gate(\n",
        "            gate,\n",
        "            qubits,\n",
        "            parameter\n",
        "        ))\n",
        "\n",
        "    current_generation.append(g)"
      ],
      "metadata": {
        "id": "1MccFnjlkKY7"
      },
      "execution_count": null,
      "outputs": []
    },
    {
      "cell_type": "code",
      "source": [
        "for gene in current_generation:\n",
        "    print(gene) # making sure something doesn't look completely stupid here"
      ],
      "metadata": {
        "colab": {
          "base_uri": "https://localhost:8080/"
        },
        "collapsed": true,
        "id": "rKQGXolNtaQ2",
        "outputId": "7abd60ca-3b0d-4432-ab45-5b7bb08aaa12"
      },
      "execution_count": null,
      "outputs": [
        {
          "output_type": "stream",
          "name": "stdout",
          "text": [
            "Gene(Gate(Rz, (4,), 0))\n",
            "Gene(Gate(Rz, (5,), 0))\n",
            "Gene(Gate(RZZ, (0, 4), 0), Gate(Rx, (6,), 0), Gate(Rx, (3,), 0), Gate(Ry, (4,), 0), Gate(RZZ, (9, 3), 0), Gate(CNOT, (2, 7), 0))\n",
            "Gene(Gate(RZZ, (8, 7), 0), Gate(Ry, (7,), 0), Gate(CNOT, (8, 1), 1), Gate(Rz, (9,), 1), Gate(CNOT, (7, 6), 0))\n",
            "Gene(Gate(CNOT, (1, 2), 0))\n",
            "Gene(Gate(Rz, (9,), 0))\n",
            "Gene(Gate(Ry, (0,), 0), Gate(Rz, (8,), 0), Gate(Rz, (6,), 0), Gate(Rx, (2,), 0))\n",
            "Gene(Gate(CNOT, (7, 9), 0), Gate(CNOT, (4, 6), 0), Gate(Rx, (9,), 0), Gate(RZZ, (9, 3), 0), Gate(Rx, (3,), 0))\n",
            "Gene(Gate(RZZ, (4, 1), 0), Gate(Ry, (8,), 0), Gate(Rx, (5,), 0), Gate(RZZ, (0, 6), 0), Gate(CNOT, (0, 7), 0), Gate(Rz, (2,), 0))\n",
            "Gene(Gate(RZZ, (8, 2), 0))\n",
            "Gene(Gate(CNOT, (7, 5), 0))\n",
            "Gene(Gate(Rz, (9,), 0), Gate(RZZ, (1, 2), 0), Gate(RZZ, (1, 8), 0), Gate(CNOT, (9, 5), 0), Gate(Rx, (3,), 0))\n",
            "Gene(Gate(Rx, (2,), 0), Gate(CNOT, (7, 0), 0), Gate(Rx, (9,), 0), Gate(RZZ, (1, 8), 0))\n",
            "Gene(Gate(RZZ, (6, 3), 0))\n",
            "Gene(Gate(RZZ, (0, 8), 0))\n",
            "Gene(Gate(Rz, (3,), 0), Gate(CNOT, (1, 9), 0), Gate(RZZ, (8, 2), 0), Gate(Rz, (8,), 0))\n",
            "Gene(Gate(RZZ, (3, 5), 0), Gate(Rz, (8,), 0))\n",
            "Gene(Gate(Ry, (1,), 0))\n",
            "Gene(Gate(Rz, (1,), 0), Gate(CNOT, (6, 9), 0), Gate(RZZ, (2, 3), 0), Gate(Rz, (5,), 0))\n",
            "Gene(Gate(RZZ, (1, 2), 0))\n",
            "Gene(Gate(Ry, (5,), 0))\n",
            "Gene(Gate(CNOT, (6, 0), 0))\n",
            "Gene(Gate(RZZ, (6, 2), 0))\n",
            "Gene(Gate(Rx, (8,), 1))\n",
            "Gene(Gate(Rx, (5,), 0), Gate(RZZ, (7, 1), 1), Gate(Ry, (1,), 0), Gate(RZZ, (7, 6), 0), Gate(Rx, (8,), 0))\n",
            "Gene(Gate(RZZ, (7, 0), 1))\n",
            "Gene(Gate(Ry, (7,), 1))\n",
            "Gene(Gate(CNOT, (9, 4), 0))\n",
            "Gene(Gate(Rx, (3,), 0))\n",
            "Gene(Gate(RZZ, (9, 8), 0), Gate(RZZ, (4, 6), 0), Gate(Rx, (0,), 0), Gate(CNOT, (0, 5), 0), Gate(Rx, (7,), 0))\n",
            "Gene(Gate(CNOT, (1, 4), 0), Gate(Rz, (8,), 0), Gate(RZZ, (7, 9), 0), Gate(RZZ, (5, 1), 0))\n",
            "Gene(Gate(RZZ, (6, 0), 0))\n",
            "Gene(Gate(Rz, (3,), 0), Gate(CNOT, (5, 8), 0), Gate(Ry, (7,), 0), Gate(CNOT, (2, 3), 0))\n",
            "Gene(Gate(RZZ, (9, 2), 0))\n",
            "Gene(Gate(Rx, (8,), 0))\n",
            "Gene(Gate(CNOT, (4, 6), 0))\n",
            "Gene(Gate(CNOT, (5, 8), 0))\n",
            "Gene(Gate(CNOT, (8, 3), 0))\n",
            "Gene(Gate(CNOT, (8, 6), 0), Gate(RZZ, (2, 6), 0), Gate(CNOT, (1, 5), 0), Gate(CNOT, (8, 3), 0))\n",
            "Gene(Gate(Rz, (5,), 0))\n",
            "Gene(Gate(RZZ, (8, 2), 0), Gate(RZZ, (6, 7), 0), Gate(Ry, (5,), 0), Gate(Rz, (5,), 0))\n",
            "Gene(Gate(Ry, (2,), 1), Gate(Rx, (7,), 2), Gate(Ry, (6,), 0), Gate(RZZ, (8, 1), 1), Gate(CNOT, (8, 3), 0), Gate(Ry, (0,), 1))\n",
            "Gene(Gate(Rx, (4,), 0), Gate(Rx, (1,), 0))\n",
            "Gene(Gate(CNOT, (7, 2), 0))\n",
            "Gene(Gate(Ry, (8,), 0))\n",
            "Gene(Gate(Rx, (2,), 0), Gate(Rz, (5,), 0), Gate(Rx, (2,), 0), Gate(Ry, (4,), 0))\n",
            "Gene(Gate(Rx, (2,), 0))\n",
            "Gene(Gate(Rz, (1,), 0), Gate(CNOT, (0, 1), 0), Gate(Ry, (6,), 0), Gate(Rx, (2,), 0), Gate(Rx, (2,), 0))\n",
            "Gene(Gate(Ry, (2,), 0))\n",
            "Gene(Gate(RZZ, (0, 3), 0), Gate(CNOT, (4, 6), 0), Gate(Ry, (3,), 0))\n",
            "Gene(Gate(Ry, (5,), 0), Gate(CNOT, (3, 0), 0), Gate(Rz, (4,), 0))\n",
            "Gene(Gate(Rx, (5,), 0))\n",
            "Gene(Gate(RZZ, (5, 8), 0), Gate(Rx, (5,), 0))\n",
            "Gene(Gate(CNOT, (8, 4), 0), Gate(CNOT, (1, 6), 0), Gate(Rx, (3,), 0), Gate(CNOT, (1, 9), 0))\n",
            "Gene(Gate(CNOT, (6, 7), 0))\n",
            "Gene(Gate(CNOT, (0, 1), 0), Gate(CNOT, (7, 3), 0), Gate(Ry, (7,), 0), Gate(Ry, (1,), 0))\n",
            "Gene(Gate(Rx, (0,), 0))\n",
            "Gene(Gate(RZZ, (8, 1), 0), Gate(Rz, (6,), 0), Gate(Ry, (6,), 0), Gate(CNOT, (4, 8), 0))\n",
            "Gene(Gate(Rx, (3,), 1), Gate(Rz, (1,), 1), Gate(Rx, (5,), 1), Gate(CNOT, (3, 1), 1), Gate(Rz, (5,), 0), Gate(RZZ, (0, 4), 0))\n",
            "Gene(Gate(Rx, (5,), 0), Gate(Ry, (3,), 0), Gate(Rx, (9,), 0), Gate(Rx, (4,), 0), Gate(CNOT, (4, 5), 0))\n",
            "Gene(Gate(Ry, (7,), 0), Gate(Ry, (8,), 0), Gate(Rx, (5,), 1), Gate(Rz, (4,), 0))\n",
            "Gene(Gate(Rx, (8,), 0), Gate(Rz, (3,), 0), Gate(Rz, (1,), 1), Gate(CNOT, (5, 3), 0), Gate(Rz, (3,), 1), Gate(Rz, (4,), 0))\n",
            "Gene(Gate(Ry, (4,), 0))\n",
            "Gene(Gate(Rz, (6,), 0))\n",
            "Gene(Gate(Rx, (5,), 0))\n",
            "Gene(Gate(CNOT, (5, 7), 0))\n",
            "Gene(Gate(Ry, (6,), 0))\n",
            "Gene(Gate(Ry, (1,), 0), Gate(Rz, (0,), 0), Gate(Rx, (6,), 0), Gate(CNOT, (2, 5), 0), Gate(Rx, (5,), 0), Gate(Ry, (3,), 0))\n",
            "Gene(Gate(CNOT, (4, 0), 0), Gate(CNOT, (8, 1), 0), Gate(RZZ, (1, 6), 0), Gate(CNOT, (5, 8), 0))\n",
            "Gene(Gate(CNOT, (8, 2), 0))\n",
            "Gene(Gate(Rx, (3,), 0), Gate(CNOT, (4, 2), 0))\n",
            "Gene(Gate(CNOT, (5, 2), 0), Gate(Ry, (9,), 0), Gate(Rx, (6,), 0), Gate(CNOT, (3, 7), 0), Gate(RZZ, (4, 5), 0))\n",
            "Gene(Gate(Rx, (8,), 0))\n",
            "Gene(Gate(Rz, (9,), 0))\n",
            "Gene(Gate(RZZ, (7, 0), 0), Gate(CNOT, (6, 5), 0), Gate(Rz, (9,), 0), Gate(CNOT, (8, 9), 0), Gate(Ry, (1,), 0))\n",
            "Gene(Gate(CNOT, (6, 0), 0), Gate(Ry, (5,), 0), Gate(RZZ, (2, 0), 0), Gate(Ry, (4,), 0), Gate(Ry, (2,), 0))\n",
            "Gene(Gate(Rz, (8,), 0))\n",
            "Gene(Gate(RZZ, (9, 0), 0))\n",
            "Gene(Gate(RZZ, (7, 6), 0))\n",
            "Gene(Gate(CNOT, (4, 9), 0))\n",
            "Gene(Gate(Rz, (4,), 0))\n",
            "Gene(Gate(RZZ, (1, 6), 0))\n",
            "Gene(Gate(CNOT, (4, 7), 0))\n",
            "Gene(Gate(Ry, (0,), 0), Gate(Rz, (3,), 0), Gate(CNOT, (4, 9), 0), Gate(Rz, (4,), 0), Gate(Ry, (4,), 0))\n",
            "Gene(Gate(Rx, (3,), 0))\n",
            "Gene(Gate(CNOT, (9, 4), 0), Gate(Rx, (4,), 0), Gate(RZZ, (9, 1), 0), Gate(RZZ, (2, 7), 0), Gate(CNOT, (7, 0), 0))\n",
            "Gene(Gate(Rx, (1,), 0), Gate(Rz, (4,), 0))\n",
            "Gene(Gate(CNOT, (0, 1), 0))\n",
            "Gene(Gate(RZZ, (3, 5), 0), Gate(RZZ, (2, 6), 1), Gate(Ry, (3,), 0), Gate(Rx, (7,), 0))\n",
            "Gene(Gate(CNOT, (0, 3), 0))\n",
            "Gene(Gate(CNOT, (3, 4), 0), Gate(Rz, (2,), 0), Gate(Rz, (9,), 0), Gate(Ry, (6,), 1))\n",
            "Gene(Gate(Ry, (4,), 0), Gate(Ry, (9,), 0))\n",
            "Gene(Gate(CNOT, (9, 4), 0), Gate(Rz, (7,), 0))\n",
            "Gene(Gate(Rx, (5,), 0))\n",
            "Gene(Gate(CNOT, (2, 8), 0), Gate(CNOT, (0, 1), 1), Gate(RZZ, (0, 3), 1), Gate(RZZ, (0, 4), 1), Gate(Rx, (0,), 1), Gate(Rx, (2,), 0))\n",
            "Gene(Gate(Rz, (8,), 0))\n",
            "Gene(Gate(RZZ, (1, 3), 0), Gate(Rx, (6,), 0), Gate(RZZ, (0, 7), 1), Gate(Rz, (5,), 0))\n",
            "Gene(Gate(RZZ, (5, 7), 0), Gate(RZZ, (3, 5), 0), Gate(Ry, (1,), 0))\n",
            "Gene(Gate(Rx, (2,), 0))\n",
            "Gene(Gate(Ry, (7,), 0))\n"
          ]
        }
      ]
    },
    {
      "cell_type": "code",
      "source": [
        "for epoch in range(EPOCHS):\n",
        "    if epoch % 2 == 0:\n",
        "        print(f\"Epoch {epoch}:\")\n",
        "        print(f\"==============\")\n",
        "\n",
        "    total_fitness = []\n",
        "    for ngene in range(len(current_generation)):\n",
        "        total_fitness.append(current_generation[ngene].evaluate([0.1 * np.pi for _ in range(current_generation[ngene].p + 1)]))\n",
        "        if ngene % (GEN_SIZE // 5) == 0 and epoch % 2 == 0:\n",
        "            print(f'calculated fitness for gene {ngene}.')\n",
        "\n",
        "    combined_array = zip(current_generation, total_fitness)\n",
        "    sorted_array = sorted(combined_array, key=lambda x: x[1])\n",
        "\n",
        "    if epoch % 2 == 0:\n",
        "        print(f\"Max fitness is: ({sorted_array[-1][0]}, {sorted_array[-1][1]})\")\n",
        "\n",
        "    # select PERCENTAGE% of current_generation with highest fitness\n",
        "    selected = [x[0] for x in sorted_array[int(-PERCENTAGE* GEN_SIZE):]]\n",
        "\n",
        "    current_generation.clear() # yay\n",
        "\n",
        "    for gene in selected: # aw :(\n",
        "        for _ in range(int(GEN_SIZE / (PERCENTAGE * 100))):\n",
        "            current_generation.append(gene.mutate())"
      ],
      "metadata": {
        "colab": {
          "base_uri": "https://localhost:8080/"
        },
        "id": "WgKegeO_w72J",
        "outputId": "09979802-8ad8-4c8a-b15d-27afd6beb28c"
      },
      "execution_count": null,
      "outputs": [
        {
          "output_type": "stream",
          "name": "stdout",
          "text": [
            "Epoch 0:\n",
            "==============\n",
            "calculated fitness for gene 0.\n",
            "calculated fitness for gene 20.\n",
            "calculated fitness for gene 40.\n",
            "calculated fitness for gene 60.\n",
            "calculated fitness for gene 80.\n",
            "Max fitness is: (Gene(Gate(RZZ, (4, 1), 0), Gate(Rx, (3,), 0), Gate(Rx, (1,), 0)), 0.043974803405644185)\n",
            "Epoch 2:\n",
            "==============\n",
            "calculated fitness for gene 0.\n",
            "calculated fitness for gene 20.\n",
            "calculated fitness for gene 40.\n",
            "calculated fitness for gene 60.\n",
            "calculated fitness for gene 80.\n",
            "Max fitness is: (Gene(Gate(RZZ, (4, 1), 0), Gate(Rx, (3,), 0), Gate(Rx, (1,), 0), Gate(CNOT, (4, 3), 0), Gate(Ry, (0,), 0)), 0.04404130625158031)\n",
            "Max fitness is: (Gene(Gate(Rx, (4,), 0), Gate(Rx, (0,), 0), Gate(Ry, (2,), 0)), 0.04421022130793473)\n",
            "Epoch 4:\n",
            "==============\n",
            "calculated fitness for gene 0.\n",
            "calculated fitness for gene 20.\n",
            "calculated fitness for gene 40.\n",
            "calculated fitness for gene 60.\n",
            "calculated fitness for gene 80.\n",
            "Max fitness is: (Gene(Gate(RZZ, (4, 1), 0), Gate(Rx, (3,), 0), Gate(Rx, (1,), 0), Gate(CNOT, (4, 3), 0), Gate(Ry, (0,), 0), Gate(Ry, (0,), 1), Gate(Ry, (3,), 0), Gate(Rx, (4,), 0)), 0.04491119344579095)\n",
            "Max fitness is: (Gene(Gate(RZZ, (4, 1), 0), Gate(Rx, (3,), 0), Gate(Rx, (1,), 0), Gate(CNOT, (4, 3), 0), Gate(Ry, (0,), 0), Gate(Ry, (0,), 1), Gate(Ry, (3,), 0), Gate(Rx, (4,), 0)), 0.04492327552575322)\n",
            "Epoch 6:\n",
            "==============\n",
            "calculated fitness for gene 0.\n",
            "calculated fitness for gene 20.\n",
            "calculated fitness for gene 40.\n",
            "calculated fitness for gene 60.\n",
            "calculated fitness for gene 80.\n",
            "Max fitness is: (Gene(Gate(RZZ, (4, 1), 0), Gate(Rx, (3,), 0), Gate(Rx, (1,), 0), Gate(CNOT, (4, 3), 0), Gate(Ry, (0,), 0), Gate(Ry, (0,), 1), Gate(Ry, (3,), 0), Gate(Rx, (4,), 0)), 0.04496822548510833)\n",
            "Max fitness is: (Gene(Gate(RZZ, (4, 1), 0), Gate(Rx, (3,), 0), Gate(Rx, (1,), 0), Gate(CNOT, (4, 3), 0), Gate(Ry, (0,), 0), Gate(Ry, (0,), 1), Gate(Ry, (3,), 0), Gate(Rx, (4,), 0), Gate(Rx, (3,), 1)), 0.04526974054861472)\n",
            "Epoch 8:\n",
            "==============\n",
            "calculated fitness for gene 0.\n",
            "calculated fitness for gene 20.\n",
            "calculated fitness for gene 40.\n",
            "calculated fitness for gene 60.\n",
            "calculated fitness for gene 80.\n",
            "Max fitness is: (Gene(Gate(RZZ, (4, 1), 0), Gate(Rx, (3,), 0), Gate(Rx, (1,), 0), Gate(CNOT, (4, 3), 0), Gate(Ry, (0,), 0), Gate(Ry, (0,), 1), Gate(Rx, (3,), 1), Gate(Ry, (4,), 1)), 0.04528370039697324)\n",
            "Max fitness is: (Gene(Gate(Ry, (3,), 1), Gate(Rx, (1,), 0), Gate(CNOT, (4, 3), 0), Gate(Ry, (0,), 0), Gate(Ry, (0,), 1), Gate(Ry, (3,), 0), Gate(Rx, (4,), 0), Gate(Ry, (3,), 2), Gate(Rz, (0,), 0), Gate(Ry, (1,), 2)), 0.04564732761966413)\n",
            "Epoch 10:\n",
            "==============\n",
            "calculated fitness for gene 0.\n",
            "calculated fitness for gene 20.\n",
            "calculated fitness for gene 40.\n",
            "calculated fitness for gene 60.\n",
            "calculated fitness for gene 80.\n",
            "Max fitness is: (Gene(Gate(Ry, (3,), 1), Gate(Rx, (1,), 0), Gate(CNOT, (4, 3), 0), Gate(Rx, (0,), 2), Gate(Rx, (0,), 0), Gate(Ry, (3,), 0), Gate(Rx, (4,), 0), Gate(Ry, (3,), 2), Gate(Rz, (0,), 0), Gate(Ry, (1,), 2), Gate(RZZ, (4, 0), 2), Gate(Ry, (4,), 2), Gate(Rz, (2,), 2)), 0.046038891229230605)\n",
            "Epoch 12:\n",
            "==============\n",
            "calculated fitness for gene 0.\n",
            "calculated fitness for gene 20.\n",
            "calculated fitness for gene 40.\n",
            "calculated fitness for gene 60.\n",
            "calculated fitness for gene 80.\n",
            "Max fitness is: (Gene(Gate(Ry, (3,), 1), Gate(Rx, (1,), 0), Gate(CNOT, (4, 3), 0), Gate(Ry, (0,), 0), Gate(Ry, (0,), 1), Gate(Ry, (3,), 0), Gate(Rx, (4,), 0), Gate(Ry, (3,), 2), Gate(Rz, (0,), 0), Gate(Ry, (1,), 2), Gate(Ry, (3,), 2)), 0.046032147664486885)\n",
            "Max fitness is: (Gene(Gate(Ry, (3,), 1), Gate(Rx, (1,), 0), Gate(CNOT, (4, 3), 0), Gate(Rx, (0,), 2), Gate(Rx, (0,), 0), Gate(Ry, (3,), 0), Gate(Rx, (4,), 0), Gate(Ry, (3,), 1), Gate(Rz, (0,), 0), Gate(Ry, (1,), 2), Gate(RZZ, (4, 0), 2), Gate(Ry, (4,), 2), Gate(Rz, (2,), 2), Gate(Rx, (3,), 0)), 0.04619014635036688)\n",
            "Epoch 14:\n",
            "==============\n",
            "calculated fitness for gene 0.\n",
            "calculated fitness for gene 20.\n",
            "calculated fitness for gene 40.\n",
            "calculated fitness for gene 60.\n",
            "calculated fitness for gene 80.\n",
            "Max fitness is: (Gene(Gate(Ry, (3,), 1), Gate(Rx, (1,), 0), Gate(CNOT, (4, 3), 0), Gate(Rx, (0,), 2), Gate(Rx, (0,), 0), Gate(Ry, (3,), 0), Gate(Rx, (4,), 0), Gate(Ry, (3,), 2), Gate(Rz, (0,), 0), Gate(Ry, (1,), 2), Gate(RZZ, (4, 0), 2), Gate(Ry, (4,), 2), Gate(Rz, (2,), 2), Gate(Rx, (3,), 3), Gate(Ry, (2,), 2), Gate(Rx, (1,), 3)), 0.04686818630866237)\n"
          ]
        }
      ]
    }
  ]
}